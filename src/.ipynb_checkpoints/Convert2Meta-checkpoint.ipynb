{
 "cells": [
  {
   "cell_type": "code",
   "execution_count": 1,
   "metadata": {},
   "outputs": [],
   "source": [
    "import json\n",
    "import os\n",
    "import pandas as pd\n",
    "import numpy as np"
   ]
  },
  {
   "cell_type": "code",
   "execution_count": 2,
   "metadata": {},
   "outputs": [
    {
     "data": {
      "text/html": [
       "<div>\n",
       "<style scoped>\n",
       "    .dataframe tbody tr th:only-of-type {\n",
       "        vertical-align: middle;\n",
       "    }\n",
       "\n",
       "    .dataframe tbody tr th {\n",
       "        vertical-align: top;\n",
       "    }\n",
       "\n",
       "    .dataframe thead th {\n",
       "        text-align: right;\n",
       "    }\n",
       "</style>\n",
       "<table border=\"1\" class=\"dataframe\">\n",
       "  <thead>\n",
       "    <tr style=\"text-align: right;\">\n",
       "      <th></th>\n",
       "      <th>日期</th>\n",
       "      <th>單字</th>\n",
       "      <th>原詞</th>\n",
       "      <th>字首</th>\n",
       "      <th>字根</th>\n",
       "      <th>關聯詞</th>\n",
       "      <th>詞性</th>\n",
       "      <th>註解</th>\n",
       "      <th>詞性.1</th>\n",
       "      <th>註解.1</th>\n",
       "      <th>詞性.2</th>\n",
       "      <th>註解.2</th>\n",
       "    </tr>\n",
       "  </thead>\n",
       "  <tbody>\n",
       "    <tr>\n",
       "      <th>0</th>\n",
       "      <td>11/12/2021</td>\n",
       "      <td>avid</td>\n",
       "      <td>NaN</td>\n",
       "      <td>NaN</td>\n",
       "      <td>NaN</td>\n",
       "      <td>NaN</td>\n",
       "      <td>形</td>\n",
       "      <td>渴望的；熱心的</td>\n",
       "      <td>NaN</td>\n",
       "      <td>NaN</td>\n",
       "      <td>NaN</td>\n",
       "      <td>NaN</td>\n",
       "    </tr>\n",
       "    <tr>\n",
       "      <th>1</th>\n",
       "      <td>11/12/2021</td>\n",
       "      <td>dedicate</td>\n",
       "      <td>NaN</td>\n",
       "      <td>NaN</td>\n",
       "      <td>NaN</td>\n",
       "      <td>NaN</td>\n",
       "      <td>動</td>\n",
       "      <td>奉獻；致力</td>\n",
       "      <td>NaN</td>\n",
       "      <td>NaN</td>\n",
       "      <td>NaN</td>\n",
       "      <td>NaN</td>\n",
       "    </tr>\n",
       "    <tr>\n",
       "      <th>2</th>\n",
       "      <td>11/12/2021</td>\n",
       "      <td>eminent</td>\n",
       "      <td>NaN</td>\n",
       "      <td>NaN</td>\n",
       "      <td>NaN</td>\n",
       "      <td>NaN</td>\n",
       "      <td>形</td>\n",
       "      <td>卓越的；著名的</td>\n",
       "      <td>NaN</td>\n",
       "      <td>NaN</td>\n",
       "      <td>NaN</td>\n",
       "      <td>NaN</td>\n",
       "    </tr>\n",
       "    <tr>\n",
       "      <th>3</th>\n",
       "      <td>11/12/2021</td>\n",
       "      <td>inspiring</td>\n",
       "      <td>NaN</td>\n",
       "      <td>NaN</td>\n",
       "      <td>NaN</td>\n",
       "      <td>NaN</td>\n",
       "      <td>形</td>\n",
       "      <td>啟發靈感的；鼓舞人心的</td>\n",
       "      <td>NaN</td>\n",
       "      <td>NaN</td>\n",
       "      <td>NaN</td>\n",
       "      <td>NaN</td>\n",
       "    </tr>\n",
       "    <tr>\n",
       "      <th>4</th>\n",
       "      <td>11/12/2021</td>\n",
       "      <td>memorable</td>\n",
       "      <td>NaN</td>\n",
       "      <td>NaN</td>\n",
       "      <td>NaN</td>\n",
       "      <td>NaN</td>\n",
       "      <td>形</td>\n",
       "      <td>值得紀念的</td>\n",
       "      <td>NaN</td>\n",
       "      <td>NaN</td>\n",
       "      <td>NaN</td>\n",
       "      <td>NaN</td>\n",
       "    </tr>\n",
       "  </tbody>\n",
       "</table>\n",
       "</div>"
      ],
      "text/plain": [
       "           日期         單字  原詞  字首  字根  關聯詞 詞性           註解 詞性.1 註解.1  詞性.2  \\\n",
       "0  11/12/2021       avid NaN NaN NaN  NaN  形      渴望的；熱心的  NaN  NaN   NaN   \n",
       "1  11/12/2021   dedicate NaN NaN NaN  NaN  動        奉獻；致力  NaN  NaN   NaN   \n",
       "2  11/12/2021    eminent NaN NaN NaN  NaN  形      卓越的；著名的  NaN  NaN   NaN   \n",
       "3  11/12/2021  inspiring NaN NaN NaN  NaN  形  啟發靈感的；鼓舞人心的  NaN  NaN   NaN   \n",
       "4  11/12/2021  memorable NaN NaN NaN  NaN  形        值得紀念的  NaN  NaN   NaN   \n",
       "\n",
       "   註解.2  \n",
       "0   NaN  \n",
       "1   NaN  \n",
       "2   NaN  \n",
       "3   NaN  \n",
       "4   NaN  "
      ]
     },
     "execution_count": 2,
     "metadata": {},
     "output_type": "execute_result"
    }
   ],
   "source": [
    "vocabs_data = pd.read_csv('../data/csv/vocabs.csv')\n",
    "vocabs_data.head()"
   ]
  },
  {
   "cell_type": "code",
   "execution_count": 3,
   "metadata": {},
   "outputs": [],
   "source": [
    "def build_vocab_meta(vocab, vocab_data, col_speech, col_mean):    \n",
    "    if vocab != vocab_data['單字']:\n",
    "        print(\"[%s] given vocab and data not match !!!!!\" % vocab)\n",
    "        return 0\n",
    "    \n",
    "    meta = {}\n",
    "    meta['mean'] = {}\n",
    "    for speech, mean in zip(col_speech, col_mean):\n",
    "        if pd.isna(vocab_data[speech]) & pd.isna(vocab_data[mean]):\n",
    "            continue\n",
    "        elif pd.isna(vocab_data[speech]) + pd.isna(vocab_data[mean]) == 1:\n",
    "            print(\"[%s] invalid speech or mean (one of them is NaN)\")\n",
    "        meta['mean'][vocab_data[speech]] = vocab_data[mean]\n",
    "    meta['date'] = vocab_data['日期']\n",
    "    meta['proficiency'] = 1\n",
    "    return meta"
   ]
  },
  {
   "cell_type": "code",
   "execution_count": 10,
   "metadata": {},
   "outputs": [],
   "source": [
    "vocabs = vocabs_data['單字']\n",
    "col_speech = []\n",
    "col_mean = []\n",
    "max_col_speech = 0\n",
    "max_col_mean = 0\n",
    "\n",
    "for i, col in enumerate(vocabs_data.columns):\n",
    "    if '詞性' in col:\n",
    "        col_speech.append(col)\n",
    "        max_col_speech += 1\n",
    "    if '註解' in col:\n",
    "        col_mean.append(col)\n",
    "        max_col_mean += 1\n",
    "vocabs_meta = {}"
   ]
  },
  {
   "cell_type": "code",
   "execution_count": 11,
   "metadata": {},
   "outputs": [
    {
     "name": "stdout",
     "output_type": "stream",
     "text": [
      "Current Size of vocabs : 156\n",
      "New size of vocabs : 156\n"
     ]
    }
   ],
   "source": [
    "### Test a data\n",
    "# i = 48\n",
    "# vocabs_meta[vocabs[i]] = build_vocab_meta(vocabs[i], vocabs_data.iloc[i], col_speech, col_mean)\n",
    "\n",
    "### Start to Build Meta of Vocabs\n",
    "vocabs_count = len(vocabs)\n",
    "repeat_vocabs_count = 0\n",
    "print(\"Current size of vocabs : %d\" % vocabs_count)\n",
    "for i in range(vocabs_count):\n",
    "    if vocabs[i] in vocabs_meta.keys():\n",
    "        print(\"[%s] is already exist\" % vocabs[i])\n",
    "        repeat_vocabs_count += 1\n",
    "        continue\n",
    "    vocabs_meta[vocabs[i]] = build_vocab_meta(vocabs[i], vocabs_data.iloc[i], col_speech, col_mean)\n",
    "print(\"New size of vocabs : %d\" % (vocabs_count-repeat_vocabs_count))"
   ]
  },
  {
   "cell_type": "code",
   "execution_count": 12,
   "metadata": {},
   "outputs": [],
   "source": [
    "meta_path = \"../data/meta\"\n",
    "meta_name = \"vocabs.json\"\n",
    "with open(os.path.join(meta_path, meta_name), 'w') as f:\n",
    "    json.dump(vocabs_meta, f, indent=4)"
   ]
  },
  {
   "cell_type": "code",
   "execution_count": 13,
   "metadata": {},
   "outputs": [],
   "source": [
    "meta_path = \"../data/meta\"\n",
    "meta_name = \"vocabs.json\"\n",
    "with open(os.path.join(meta_path, meta_name)) as f:\n",
    "    vocabs_meta_load = json.load(f)"
   ]
  },
  {
   "cell_type": "code",
   "execution_count": null,
   "metadata": {},
   "outputs": [],
   "source": []
  }
 ],
 "metadata": {
  "kernelspec": {
   "display_name": "Python 3",
   "language": "python",
   "name": "python3"
  },
  "nbTranslate": {
   "displayLangs": [
    "*"
   ],
   "hotkey": "alt-t",
   "langInMainMenu": true,
   "sourceLang": "en",
   "targetLang": "fr",
   "useGoogleTranslate": true
  },
  "toc": {
   "base_numbering": 1,
   "nav_menu": {},
   "number_sections": true,
   "sideBar": true,
   "skip_h1_title": false,
   "title_cell": "Table of Contents",
   "title_sidebar": "Contents",
   "toc_cell": false,
   "toc_position": {},
   "toc_section_display": true,
   "toc_window_display": false
  },
  "varInspector": {
   "cols": {
    "lenName": 16,
    "lenType": 16,
    "lenVar": 40
   },
   "kernels_config": {
    "python": {
     "delete_cmd_postfix": "",
     "delete_cmd_prefix": "del ",
     "library": "var_list.py",
     "varRefreshCmd": "print(var_dic_list())"
    },
    "r": {
     "delete_cmd_postfix": ") ",
     "delete_cmd_prefix": "rm(",
     "library": "var_list.r",
     "varRefreshCmd": "cat(var_dic_list()) "
    }
   },
   "types_to_exclude": [
    "module",
    "function",
    "builtin_function_or_method",
    "instance",
    "_Feature"
   ],
   "window_display": false
  }
 },
 "nbformat": 4,
 "nbformat_minor": 4
}
