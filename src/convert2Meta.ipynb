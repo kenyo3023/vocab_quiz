{
 "cells": [
  {
   "cell_type": "code",
   "execution_count": 1,
   "metadata": {},
   "outputs": [],
   "source": [
    "import json\n",
    "import os\n",
    "import pandas as pd\n",
    "import numpy as np"
   ]
  },
  {
   "cell_type": "code",
   "execution_count": 2,
   "metadata": {},
   "outputs": [
    {
     "data": {
      "text/html": [
       "<div>\n",
       "<style scoped>\n",
       "    .dataframe tbody tr th:only-of-type {\n",
       "        vertical-align: middle;\n",
       "    }\n",
       "\n",
       "    .dataframe tbody tr th {\n",
       "        vertical-align: top;\n",
       "    }\n",
       "\n",
       "    .dataframe thead th {\n",
       "        text-align: right;\n",
       "    }\n",
       "</style>\n",
       "<table border=\"1\" class=\"dataframe\">\n",
       "  <thead>\n",
       "    <tr style=\"text-align: right;\">\n",
       "      <th></th>\n",
       "      <th>日期</th>\n",
       "      <th>單字</th>\n",
       "      <th>詞性</th>\n",
       "      <th>註解</th>\n",
       "      <th>詞性.1</th>\n",
       "      <th>註解.1</th>\n",
       "      <th>詞性.2</th>\n",
       "      <th>註解.2</th>\n",
       "    </tr>\n",
       "  </thead>\n",
       "  <tbody>\n",
       "    <tr>\n",
       "      <th>0</th>\n",
       "      <td>12/06/2022</td>\n",
       "      <td>delegate</td>\n",
       "      <td>動</td>\n",
       "      <td>委託</td>\n",
       "      <td>NaN</td>\n",
       "      <td>NaN</td>\n",
       "      <td>NaN</td>\n",
       "      <td>NaN</td>\n",
       "    </tr>\n",
       "    <tr>\n",
       "      <th>1</th>\n",
       "      <td>12/06/2022</td>\n",
       "      <td>broaden</td>\n",
       "      <td>動</td>\n",
       "      <td>擴大；擴增</td>\n",
       "      <td>NaN</td>\n",
       "      <td>NaN</td>\n",
       "      <td>NaN</td>\n",
       "      <td>NaN</td>\n",
       "    </tr>\n",
       "    <tr>\n",
       "      <th>2</th>\n",
       "      <td>12/06/2022</td>\n",
       "      <td>supplement</td>\n",
       "      <td>動</td>\n",
       "      <td>補充</td>\n",
       "      <td>NaN</td>\n",
       "      <td>NaN</td>\n",
       "      <td>NaN</td>\n",
       "      <td>NaN</td>\n",
       "    </tr>\n",
       "    <tr>\n",
       "      <th>3</th>\n",
       "      <td>12/06/2022</td>\n",
       "      <td>emerge</td>\n",
       "      <td>動</td>\n",
       "      <td>浮現</td>\n",
       "      <td>NaN</td>\n",
       "      <td>NaN</td>\n",
       "      <td>NaN</td>\n",
       "      <td>NaN</td>\n",
       "    </tr>\n",
       "    <tr>\n",
       "      <th>4</th>\n",
       "      <td>12/06/2022</td>\n",
       "      <td>pardon</td>\n",
       "      <td>動</td>\n",
       "      <td>諒解；寛恕</td>\n",
       "      <td>NaN</td>\n",
       "      <td>NaN</td>\n",
       "      <td>NaN</td>\n",
       "      <td>NaN</td>\n",
       "    </tr>\n",
       "  </tbody>\n",
       "</table>\n",
       "</div>"
      ],
      "text/plain": [
       "           日期          單字 詞性     註解 詞性.1 註解.1 詞性.2 註解.2\n",
       "0  12/06/2022    delegate  動     委託  NaN  NaN  NaN  NaN\n",
       "1  12/06/2022     broaden  動  擴大；擴增  NaN  NaN  NaN  NaN\n",
       "2  12/06/2022  supplement  動     補充  NaN  NaN  NaN  NaN\n",
       "3  12/06/2022      emerge  動     浮現  NaN  NaN  NaN  NaN\n",
       "4  12/06/2022      pardon  動  諒解；寛恕  NaN  NaN  NaN  NaN"
      ]
     },
     "execution_count": 2,
     "metadata": {},
     "output_type": "execute_result"
    }
   ],
   "source": [
    "vocabs_data = pd.read_csv('../data/csv/vocabs_20220612.csv')\n",
    "vocabs_data.head()"
   ]
  },
  {
   "cell_type": "code",
   "execution_count": 3,
   "metadata": {},
   "outputs": [],
   "source": [
    "def build_vocab_meta(vocab, vocab_data, col_speech, col_mean):    \n",
    "    if vocab != vocab_data['單字']:\n",
    "        print(\"[%s] given vocab and data not match !!!!!\" % vocab)\n",
    "        return 0\n",
    "    \n",
    "    meta = {}\n",
    "    meta['mean'] = {}\n",
    "    for speech, mean in zip(col_speech, col_mean):\n",
    "        if pd.isna(vocab_data[speech]) & pd.isna(vocab_data[mean]):\n",
    "            continue\n",
    "        elif pd.isna(vocab_data[speech]) + pd.isna(vocab_data[mean]) == 1:\n",
    "            print(\"[%s] invalid speech or mean (one of them is NaN)\")\n",
    "        meta['mean'][vocab_data[speech]] = vocab_data[mean]\n",
    "    meta['date'] = vocab_data['日期']\n",
    "    meta['proficiency'] = 1\n",
    "    return meta"
   ]
  },
  {
   "cell_type": "code",
   "execution_count": 4,
   "metadata": {},
   "outputs": [],
   "source": [
    "vocabs = vocabs_data['單字'].dropna(axis=0).tolist()\n",
    "col_speech = []\n",
    "col_mean = []\n",
    "max_col_speech = 0\n",
    "max_col_mean = 0\n",
    "\n",
    "for i, col in enumerate(vocabs_data.columns):\n",
    "    if '詞性' in col:\n",
    "        col_speech.append(col)\n",
    "        max_col_speech += 1\n",
    "    if '註解' in col:\n",
    "        col_mean.append(col)\n",
    "        max_col_mean += 1\n",
    "vocabs_meta = {}"
   ]
  },
  {
   "cell_type": "code",
   "execution_count": 5,
   "metadata": {},
   "outputs": [
    {
     "name": "stdout",
     "output_type": "stream",
     "text": [
      "Current size of vocabs : 258\n",
      "[delegate] is already exist\n",
      "[essential] is already exist\n",
      "[absence] is already exist\n",
      "[react] is already exist\n",
      "[senator] is already exist\n",
      "[incentive] is already exist\n",
      "[incline] is already exist\n",
      "[attendant] is already exist\n",
      "[incentive] is already exist\n",
      "[react] is already exist\n",
      "[grant] is already exist\n",
      "New size of vocabs : 247\n"
     ]
    }
   ],
   "source": [
    "### Test a data\n",
    "# i = 48\n",
    "# vocabs_meta[vocabs[i]] = build_vocab_meta(vocabs[i], vocabs_data.iloc[i], col_speech, col_mean)\n",
    "\n",
    "### Start to Build Meta of Vocabs\n",
    "vocabs_count = len(vocabs)\n",
    "repeat_vocabs_count = 0\n",
    "print(\"Current size of vocabs : %d\" % vocabs_count)\n",
    "for i in range(vocabs_count):\n",
    "    if vocabs[i] in vocabs_meta.keys():\n",
    "        print(\"[%s] is already exist\" % vocabs[i])\n",
    "        repeat_vocabs_count += 1\n",
    "        continue\n",
    "    vocabs_meta[vocabs[i]] = build_vocab_meta(vocabs[i], vocabs_data.iloc[i], col_speech, col_mean)\n",
    "print(\"New size of vocabs : %d\" % (vocabs_count-repeat_vocabs_count))"
   ]
  },
  {
   "cell_type": "code",
   "execution_count": null,
   "metadata": {},
   "outputs": [],
   "source": [
    "save = None\n",
    "_, ext = os.path.splitext(save)\n",
    "if ext == '.json':\n",
    "    corpus = save\n",
    "elif not ext:\n",
    "    corpus = os.path.join(save, \"vocabs.json\")\n",
    "else:\n",
    "    raise ValueError(\"the config --save must be directory or file with ext '.json'\")\n",
    "with open(corpus, 'w') as f:\n",
    "    json.dump(vocabs_meta, f, indent=4)"
   ]
  }
 ],
 "metadata": {
  "interpreter": {
   "hash": "7e734469a52a9300b7aededab39a2b17dc745fde0a327e3449b72fbdab7927ac"
  },
  "kernelspec": {
   "display_name": "Python 3.9.7 ('vocab_quiz')",
   "language": "python",
   "name": "python3"
  },
  "language_info": {
   "codemirror_mode": {
    "name": "ipython",
    "version": 3
   },
   "file_extension": ".py",
   "mimetype": "text/x-python",
   "name": "python",
   "nbconvert_exporter": "python",
   "pygments_lexer": "ipython3",
   "version": "3.9.7"
  },
  "nbTranslate": {
   "displayLangs": [
    "*"
   ],
   "hotkey": "alt-t",
   "langInMainMenu": true,
   "sourceLang": "en",
   "targetLang": "fr",
   "useGoogleTranslate": true
  },
  "toc": {
   "base_numbering": 1,
   "nav_menu": {},
   "number_sections": true,
   "sideBar": true,
   "skip_h1_title": false,
   "title_cell": "Table of Contents",
   "title_sidebar": "Contents",
   "toc_cell": false,
   "toc_position": {},
   "toc_section_display": true,
   "toc_window_display": false
  },
  "varInspector": {
   "cols": {
    "lenName": 16,
    "lenType": 16,
    "lenVar": 40
   },
   "kernels_config": {
    "python": {
     "delete_cmd_postfix": "",
     "delete_cmd_prefix": "del ",
     "library": "var_list.py",
     "varRefreshCmd": "print(var_dic_list())"
    },
    "r": {
     "delete_cmd_postfix": ") ",
     "delete_cmd_prefix": "rm(",
     "library": "var_list.r",
     "varRefreshCmd": "cat(var_dic_list()) "
    }
   },
   "types_to_exclude": [
    "module",
    "function",
    "builtin_function_or_method",
    "instance",
    "_Feature"
   ],
   "window_display": false
  }
 },
 "nbformat": 4,
 "nbformat_minor": 4
}
